{
 "cells": [
  {
   "cell_type": "markdown",
   "id": "875ea2f3",
   "metadata": {},
   "source": [
    "\n",
    "1. A Robot moves in a Plane starting from the origin point (0,0). The robot can move toward UP, DOWN, LEFT, RIGHT. The trace of Robot movement is as given following:\n",
    "\n",
    "UP 5\n",
    "\n",
    "DOWN 3\n",
    "\n",
    "LEFT 3\n",
    "\n",
    "RIGHT 2\n",
    "\n",
    "(The numbers after directions are steps)\n",
    "\n",
    "Write a program to compute the current distance from the origin point after sequencing of movements.\n",
    "\n",
    "Hint: Use math module."
   ]
  },
  {
   "cell_type": "code",
   "execution_count": 3,
   "id": "8cb4afd7",
   "metadata": {},
   "outputs": [
    {
     "name": "stdout",
     "output_type": "stream",
     "text": [
      "Enter the number of instruction: 4\n",
      "Enter the direction and step count: UP 5\n",
      "Enter the direction and step count: DOWN 3\n",
      "Enter the direction and step count: LEFT 3\n",
      "Enter the direction and step count: RIGHT 2\n",
      "2.23606797749979\n"
     ]
    }
   ],
   "source": [
    "import math\n",
    "x = 0\n",
    "y = 0\n",
    "No_of_movement=int(input(\"Enter the number of instruction: \"))\n",
    "for i in range(No_of_movement):\n",
    "    Direction,Step_count = input(\"Enter the direction and step count: \").split(\" \")\n",
    "    Step_count_i=int(Step_count)\n",
    "    if(Direction.upper()==\"UP\"):\n",
    "        y+=Step_count_i\n",
    "    if(Direction.upper()==\"DOWN\"):\n",
    "        y-=Step_count_i\n",
    "    if(Direction.upper()==\"RIGHT\"):\n",
    "        x+=Step_count_i\n",
    "    if(Direction.upper()==\"LEFT\"):\n",
    "        x-=Step_count_i\n",
    "        \n",
    "Distance_from_origin = math.sqrt(x**2+y**2)\n",
    "print(Distance_from_origin)\n"
   ]
  },
  {
   "cell_type": "markdown",
   "id": "1d70fc49",
   "metadata": {},
   "source": [
    "2. Data of XYZ company is stored in a sorted list. Write a program to search for specific data from that list.\n",
    "Hint: Use if/elif to deal with conditions."
   ]
  },
  {
   "cell_type": "code",
   "execution_count": 22,
   "id": "84cb2dcc",
   "metadata": {},
   "outputs": [
    {
     "name": "stdout",
     "output_type": "stream",
     "text": [
      "Enter the value you want to search:23\n",
      "Element found at  0 index.\n"
     ]
    }
   ],
   "source": [
    "sorted_list=[23,56,78,99,789,8975]\n",
    "elem=int(input(\"Enter the value you want to search:\"))\n",
    "if(elem in sorted_list):\n",
    "    print(\"Element found at \",sorted_list.index(elem),\"index.\")\n",
    "else:\n",
    "    print(\"Element not found in list!\")   \n",
    "        "
   ]
  },
  {
   "cell_type": "markdown",
   "id": "5c0db006",
   "metadata": {},
   "source": [
    "3. A weather forecasting organization wants to show whether it is day or night.Write a program to find whether is it dark outside or not based on the local system time. Hint: Use time module"
   ]
  },
  {
   "cell_type": "code",
   "execution_count": 27,
   "id": "69d739d4",
   "metadata": {},
   "outputs": [
    {
     "name": "stdout",
     "output_type": "stream",
     "text": [
      "Its dark  right now.\n"
     ]
    }
   ],
   "source": [
    "import time\n",
    "def get_part_of_day(hour):\n",
    "    if 5 <= hour <= 18:\n",
    "        string=\"light\"\n",
    "    else:\n",
    "        string= \"dark\"\n",
    "    return string\n",
    "\n",
    "\n",
    "h = time.localtime().tm_hour\n",
    "\n",
    "print(f\"Its {get_part_of_day(h)}  right now.\")"
   ]
  },
  {
   "cell_type": "markdown",
   "id": "cf86c9ee",
   "metadata": {},
   "source": [
    "4. Write a program to find distance between two locations when their latitude and longitudes are given. Hint: Use math module."
   ]
  },
  {
   "cell_type": "code",
   "execution_count": 15,
   "id": "67dd7dec",
   "metadata": {},
   "outputs": [
    {
     "name": "stdout",
     "output_type": "stream",
     "text": [
      "Enter the first coordinates: 53.32055555555556,-1.7297222222222221\n",
      "Enter the second coordinates: 53.31861111111111,-1.6997222222222223\n",
      "2.0043678382716137 Kilometer\n"
     ]
    }
   ],
   "source": [
    "import math\n",
    "\n",
    "def distance(lat1, lat2, lon1, lon2):\n",
    "    lon1 = math.radians(lon1)\n",
    "    lon2 = math.radians(lon2)\n",
    "    lat1 = math.radians(lat1)\n",
    "    lat2 = math.radians(lat2)\n",
    "    diff_lon = lon2 - lon1\n",
    "    diff_lat = lat2 - lat1\n",
    "    a = math.sin(diff_lat / 2)**2 + math.cos(lat1) * math.cos(lat2) * math.sin(diff_lon / 2)**2\n",
    " \n",
    "    c = 2 * math.asin(math.sqrt(a))\n",
    "    r = 6371\n",
    "    return(c * r)\n",
    "     \n",
    "     \n",
    "lat1,lon1 = list(map(float,input(\"Enter the first coordinates: \").split(\",\")))\n",
    "lat2,lon2 = list(map(float,input(\"Enter the second coordinates: \").split(\",\")))\n",
    "print(distance(lat1, lat2, lon1, lon2), \"Kilometer\")"
   ]
  },
  {
   "cell_type": "markdown",
   "id": "b253cf13",
   "metadata": {},
   "source": [
    "5. Design a banking system software with options like cash withdraw, cash credit and change password. The software must display appropriate results based on user inputs. Hint: Use if else statements and functions."
   ]
  },
  {
   "cell_type": "code",
   "execution_count": 3,
   "id": "d042833e",
   "metadata": {},
   "outputs": [
    {
     "name": "stdout",
     "output_type": "stream",
     "text": [
      "Enter your choice:\n",
      "                        0.Exit\n",
      "                        1.Cash Withdraw\n",
      "                        2.Cash Credit\n",
      "                        3.Change password.\n",
      "                        \n",
      "                        1\n",
      "Current Available Balance: 10000\n",
      "Enter the amount you want to withdraw :7547\n",
      "Cash withdrawal from your account is :  7547 . Now, The Current Available Balance: 2453\n",
      "Enter your choice:\n",
      "                        0.Exit\n",
      "                        1.Cash Withdraw\n",
      "                        2.Cash Credit\n",
      "                        3.Change password.\n",
      "                        \n",
      "                        2\n",
      "Current Available Balance: 2453\n",
      "Enter the amount you want to credit :38758\n",
      "Cash credited in your account is :  38758 . Now, The Current Available Balance: 41211\n",
      "Enter your choice:\n",
      "                        0.Exit\n",
      "                        1.Cash Withdraw\n",
      "                        2.Cash Credit\n",
      "                        3.Change password.\n",
      "                        \n",
      "                        3\n",
      "Please enter your new password: riya123\n",
      "Please Re-enter your new password: riya1234\n",
      "Password doesn't match.Try again!\n",
      "Please enter your new password: riya123\n",
      "Please Re-enter your new password: riya123\n",
      "Your password has been successfully changed.\n",
      "Enter your choice:\n",
      "                        0.Exit\n",
      "                        1.Cash Withdraw\n",
      "                        2.Cash Credit\n",
      "                        3.Change password.\n",
      "                        \n",
      "                        0\n"
     ]
    }
   ],
   "source": [
    "AccountBalance=10000\n",
    "password='xyz'\n",
    "\n",
    "while(True):\n",
    "    Choice=int(input(\"\"\"Enter your choice:\n",
    "                        0.Exit\n",
    "                        1.Cash Withdraw\n",
    "                        2.Cash Credit\n",
    "                        3.Change password.\n",
    "                        \n",
    "                        \"\"\"))\n",
    "    if(Choice==1):\n",
    "        print(\"Current Available Balance:\",AccountBalance)\n",
    "        withdraw=int(input(\"Enter the amount you want to withdraw :\"))\n",
    "        if(AccountBalance>=withdraw):\n",
    "            AccountBalance -=withdraw\n",
    "            print(\"Cash withdrawal from your account is : \", withdraw ,\". Now, The Current Available Balance:\",AccountBalance)\n",
    "        else:\n",
    "            print(\"Insufficent Balance. \")\n",
    "    elif(Choice==2):\n",
    "        print(\"Current Available Balance:\",AccountBalance)\n",
    "        credit=int(input(\"Enter the amount you want to credit :\"))\n",
    "        AccountBalance +=credit\n",
    "        print(\"Cash credited in your account is : \", credit ,\". Now, The Current Available Balance:\",AccountBalance)\n",
    "    elif(Choice==3):\n",
    "        flag=False\n",
    "        while(flag==False):\n",
    "            match_password0 = input(\"Please enter your new password: \")\n",
    "            match_password1 = input(\"Please Re-enter your new password: \")\n",
    "            if(match_password0 == match_password1):\n",
    "                password =match_password0\n",
    "                print(\"Your password has been successfully changed.\")\n",
    "                flag=True\n",
    "            else:\n",
    "                print(\"Password doesn't match.Try again!\")\n",
    "    else:\n",
    "        break"
   ]
  },
  {
   "cell_type": "markdown",
   "id": "ab9150d4",
   "metadata": {},
   "source": [
    "6. Write a program which will find all numbers which are divisible by 7 but are not a multiple of 5, between 2000 and 3200 (both included). The numbers obtained should be printed in a comma-separated sequence on a single line."
   ]
  },
  {
   "cell_type": "code",
   "execution_count": 7,
   "id": "c8cbc0c3",
   "metadata": {},
   "outputs": [
    {
     "name": "stdout",
     "output_type": "stream",
     "text": [
      "2002,2009,2016,2023,2037,2044,2051,2058,2072,2079,2086,2093,2107,2114,2121,2128,2142,2149,2156,2163,2177,2184,2191,2198,2212,2219,2226,2233,2247,2254,2261,2268,2282,2289,2296,2303,2317,2324,2331,2338,2352,2359,2366,2373,2387,2394,2401,2408,2422,2429,2436,2443,2457,2464,2471,2478,2492,2499,2506,2513,2527,2534,2541,2548,2562,2569,2576,2583,2597,2604,2611,2618,2632,2639,2646,2653,2667,2674,2681,2688,2702,2709,2716,2723,2737,2744,2751,2758,2772,2779,2786,2793,2807,2814,2821,2828,2842,2849,2856,2863,2877,2884,2891,2898,2912,2919,2926,2933,2947,2954,2961,2968,2982,2989,2996\n"
     ]
    }
   ],
   "source": [
    "list1 =[str(x) for x in range(2000,3001) if (x%7==0 and x%5!=0) ]\n",
    "print(\",\".join(list1))\n"
   ]
  },
  {
   "cell_type": "markdown",
   "id": "ad42a2ae",
   "metadata": {},
   "source": [
    "7. Write a program which can compute the factorial of a given numbers. Use recursion to find it. "
   ]
  },
  {
   "cell_type": "code",
   "execution_count": 52,
   "id": "dbeee51d",
   "metadata": {},
   "outputs": [
    {
     "name": "stdout",
     "output_type": "stream",
     "text": [
      "6\n",
      "720\n"
     ]
    }
   ],
   "source": [
    "def factorial(num):\n",
    "    if(num==0):\n",
    "        return 1\n",
    "    elif(num==1):\n",
    "        return 1\n",
    "    else:\n",
    "        return(num*factorial(num-1))\n",
    "number=int(input())\n",
    "print(factorial(number))"
   ]
  },
  {
   "cell_type": "markdown",
   "id": "2f0da058",
   "metadata": {},
   "source": [
    "8. Write a program that calculates and prints the value according to the given formula:\n",
    "\n",
    "Q = Square root of [(2 * C * D)/H] \n",
    "\n",
    "Following are the fixed values of C and H: C is 50. H is 30.D is the variable whose values should be input to your program in a commaseparated sequence.Example:\n",
    "\n",
    "Let us assume the following comma separated input sequence is given to the program:\n",
    "100,150,180\n",
    "\n",
    "The output of the program should be:\n",
    "18,22,24"
   ]
  },
  {
   "cell_type": "code",
   "execution_count": 1,
   "id": "4d7e9154",
   "metadata": {},
   "outputs": [
    {
     "name": "stdout",
     "output_type": "stream",
     "text": [
      "Enter the comma separated input : 18,22,24\n",
      "7,8,8\n"
     ]
    }
   ],
   "source": [
    "import math\n",
    "C=50\n",
    "H=30\n",
    "D=list(map(int,input(\"Enter the comma separated input : \").split(\",\")))\n",
    "Q = list(map(lambda x:str(int(math.sqrt((2*C*x)/H))),D))\n",
    "print(\",\".join(Q))"
   ]
  },
  {
   "cell_type": "markdown",
   "id": "920aff58",
   "metadata": {},
   "source": [
    "9.Write a program which takes 2 digits, X, Y as input and generates a 2-dimensional array. The element value in the i-th row and j-th column of the array should be i*j. Note: i=0,1.., X-1; j=0,1,¡-Y-1.\n",
    "\n",
    "Example:\n",
    "Suppose the following inputs are given to the program:\n",
    "3,5\n",
    "\n",
    "Then, the output of the program should be:\n",
    "[[0, 0, 0, 0, 0], [0, 1, 2, 3, 4], [0, 2, 4, 6, 8]] "
   ]
  },
  {
   "cell_type": "code",
   "execution_count": 33,
   "id": "43dd2789",
   "metadata": {},
   "outputs": [
    {
     "name": "stdout",
     "output_type": "stream",
     "text": [
      "Enter the value of X: 3\n",
      "Enter the value of Y:5\n",
      "[[0, 0, 0, 0, 0], [0, 1, 2, 3, 4], [0, 2, 4, 6, 8]]\n"
     ]
    }
   ],
   "source": [
    "def gen2Darray(X,Y):\n",
    "    Array=[[i*j for i in range(Y)] for j in range(X)]          \n",
    "    return Array\n",
    "        \n",
    "X =int(input(\"Enter the value of X: \"))\n",
    "Y =int(input(\"Enter the value of Y:\"))\n",
    "print(gen2Darray(X,Y))"
   ]
  },
  {
   "cell_type": "markdown",
   "id": "a2696fcc",
   "metadata": {},
   "source": [
    "10. Write a program that accepts a comma separated sequence of words as input and prints the words in a comma-separated sequence after sorting them alphabetically. Suppose the following input is supplied to the program:\n",
    "\n",
    " without, hello, bag, world\n",
    " \n",
    " Then, the output should be:\n",
    " \n",
    " bag, hello, without, world"
   ]
  },
  {
   "cell_type": "code",
   "execution_count": 16,
   "id": "c1d5dcf1",
   "metadata": {},
   "outputs": [
    {
     "name": "stdout",
     "output_type": "stream",
     "text": [
      "Enter the words(comma separated): without, hello, bag, world\n",
      "bag, hello, without, world\n"
     ]
    }
   ],
   "source": [
    "input_str_list= input(\"Enter the words(comma separated): \").split(\", \")\n",
    "input_str_slist = sorted(input_str_list)\n",
    "print(\", \".join(input_str_slist))"
   ]
  },
  {
   "cell_type": "markdown",
   "id": "9fa2bdef",
   "metadata": {},
   "source": [
    "11.Write a program that accepts sequence of lines as input and prints the lines after making all characters in the sentence capitalized. \n",
    "\n",
    "Suppose the following input is supplied to the program:\n",
    "\n",
    "• Hello world\n",
    "\n",
    "• Practice makes perfect\n",
    "\n",
    " Then, the output should be:\n",
    " \n",
    "• HELLO WORLD\n",
    "\n",
    "• PRACTICE MAKES PERFECT"
   ]
  },
  {
   "cell_type": "code",
   "execution_count": 21,
   "id": "a16db7af",
   "metadata": {},
   "outputs": [
    {
     "name": "stdout",
     "output_type": "stream",
     "text": [
      "Hello world\n",
      "Practice makes perfect\n",
      "\n",
      "HELLO WORLD\n",
      "PRACTICE MAKES PERFECT\n"
     ]
    }
   ],
   "source": [
    "lines= []\n",
    "while True:\n",
    "    line = input()\n",
    "    if line:\n",
    "        lines.append(line.upper())\n",
    "    else:\n",
    "        break;\n",
    "for line in lines:\n",
    "    print(line)"
   ]
  },
  {
   "cell_type": "markdown",
   "id": "2e6e9f4d",
   "metadata": {},
   "source": [
    "12.Write a program that accepts a sequence of whitespace separated words as input and prints the words after removing all duplicate words and sorting them alphanumerically. \n",
    "\n",
    "Suppose the following input is supplied to the program:\n",
    "\n",
    " hello world and practice makes perfect and hello world again\n",
    " \n",
    " Then, the output should be:\n",
    " \n",
    " again and hello makes perfect practice world\n"
   ]
  },
  {
   "cell_type": "code",
   "execution_count": 20,
   "id": "af510a6f",
   "metadata": {},
   "outputs": [
    {
     "name": "stdout",
     "output_type": "stream",
     "text": [
      "Enter the wors here separeted by space: hello world and practice makes perfect and hello world again\n",
      "again and hello makes perfect practice world\n"
     ]
    }
   ],
   "source": [
    "input_str_list = input(\"Enter the wors here separeted by space: \").split(\" \")\n",
    "without_duplicate =sorted(set(input_str_list))\n",
    "print(\" \".join(without_duplicate))"
   ]
  },
  {
   "cell_type": "markdown",
   "id": "8bd92956",
   "metadata": {},
   "source": [
    "13.Write a program which accepts a sequence of comma separated 4-digit binary numbers as its input and then check whether they are divisible by 5 or not. The numbers that are divisible by 5 are to be printed in a comma separated sequence.\n",
    "\n",
    "Example:\n",
    "\n",
    "0100,0011,1010,1001\n",
    "\n",
    "Then the output should be:\n",
    "1010"
   ]
  },
  {
   "cell_type": "code",
   "execution_count": 18,
   "id": "f48b061e",
   "metadata": {},
   "outputs": [
    {
     "name": "stdout",
     "output_type": "stream",
     "text": [
      "Enter the 4-digit binary number(comma separarted):0100,0011,1010,1001,1111\n",
      "1010,1111\n"
     ]
    }
   ],
   "source": [
    "bin_no_list = input(\"Enter the 4-digit binary number(comma separarted):\").split(\",\")\n",
    "num_list = list(filter(lambda x :int(x, 2)%5==0, bin_no_list))\n",
    "print(\",\".join(num_list))"
   ]
  },
  {
   "cell_type": "markdown",
   "id": "bb6a357a",
   "metadata": {},
   "source": [
    "14.Write a program that accepts a sentence and calculate the number of upper-case letters and lower case letters.\n",
    "\n",
    " Suppose the following input is supplied to the program:\n",
    " \n",
    " Hello world!\n",
    " \n",
    " Then, the output should be:\n",
    " \n",
    " UPPER CASE 1\n",
    " \n",
    " LOWER CASE 9"
   ]
  },
  {
   "cell_type": "code",
   "execution_count": 1,
   "id": "cdbf8547",
   "metadata": {},
   "outputs": [
    {
     "name": "stdout",
     "output_type": "stream",
     "text": [
      "Hello world!\n",
      "UPPER CASE  1\n",
      "LOWER CASE  9\n"
     ]
    }
   ],
   "source": [
    "sentence=input()\n",
    "upper_count=0\n",
    "lower_count =0\n",
    "for char in sentence:\n",
    "    if(char.isupper()):\n",
    "        upper_count+=1\n",
    "    elif(char.islower()):\n",
    "        lower_count+=1\n",
    "print(\"UPPER CASE \",upper_count)\n",
    "print(\"LOWER CASE \",lower_count)"
   ]
  },
  {
   "cell_type": "markdown",
   "id": "cdb84c4d",
   "metadata": {},
   "source": [
    "15. Give example of fsum and sum function of math library."
   ]
  },
  {
   "cell_type": "code",
   "execution_count": 17,
   "id": "a5ea4a57",
   "metadata": {},
   "outputs": [
    {
     "name": "stdout",
     "output_type": "stream",
     "text": [
      "15\n",
      "15.0\n"
     ]
    }
   ],
   "source": [
    "import math\n",
    "lst=[1,2,3,4,5]\n",
    "print(sum(lst))\n",
    "print(math.fsum(lst))\n"
   ]
  }
 ],
 "metadata": {
  "kernelspec": {
   "display_name": "Python 3 (ipykernel)",
   "language": "python",
   "name": "python3"
  },
  "language_info": {
   "codemirror_mode": {
    "name": "ipython",
    "version": 3
   },
   "file_extension": ".py",
   "mimetype": "text/x-python",
   "name": "python",
   "nbconvert_exporter": "python",
   "pygments_lexer": "ipython3",
   "version": "3.9.7"
  }
 },
 "nbformat": 4,
 "nbformat_minor": 5
}
