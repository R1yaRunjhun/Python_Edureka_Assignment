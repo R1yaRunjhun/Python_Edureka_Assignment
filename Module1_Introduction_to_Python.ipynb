{
 "cells": [
  {
   "cell_type": "markdown",
   "id": "cd87c97d",
   "metadata": {},
   "source": [
    "1. Write a program to find the factors of a given number and check whether the factor is even or odd."
   ]
  },
  {
   "cell_type": "code",
   "execution_count": 1,
   "id": "245ddec5",
   "metadata": {},
   "outputs": [
    {
     "name": "stdout",
     "output_type": "stream",
     "text": [
      "45\n",
      "Even Factors of the given Number is: []\n",
      "Odd Factors of the given Number is: [1, 3, 5, 9, 15, 45]\n"
     ]
    }
   ],
   "source": [
    "Number = int(input())\n",
    "Even_Factor =[]\n",
    "Odd_Factor = []\n",
    "for i in range(1,Number+1):\n",
    "    if(Number%i==0 and i%2==0):\n",
    "        Even_Factor.append(i)\n",
    "    elif(Number%i==0 and i%2!=0):\n",
    "        Odd_Factor.append(i)\n",
    "print(\"Even Factors of the given Number is:\", Even_Factor)\n",
    "print(\"Odd Factors of the given Number is:\", Odd_Factor)"
   ]
  },
  {
   "cell_type": "markdown",
   "id": "3bc9a32a",
   "metadata": {},
   "source": [
    "2. Write a code that accepts a sequence of words as input and prints the words in a sequence after sorting them alphabetically"
   ]
  },
  {
   "cell_type": "code",
   "execution_count": 3,
   "id": "54c3db4e",
   "metadata": {},
   "outputs": [
    {
     "name": "stdout",
     "output_type": "stream",
     "text": [
      "Write a code that accepts a sequence of words as input and prints the words in a sequence after sorting them alphabetically\n"
     ]
    },
    {
     "data": {
      "text/plain": [
       "'a a a accepts after alphabetically and as code in input of prints sequence sequence sorting that the them words words write'"
      ]
     },
     "execution_count": 3,
     "metadata": {},
     "output_type": "execute_result"
    }
   ],
   "source": [
    "Sentence = input().lower()\n",
    "sentence_list= Sentence.split(\" \")\n",
    "sentence_list.sort()\n",
    "' '.join(sentence_list)"
   ]
  },
  {
   "cell_type": "markdown",
   "id": "03dac2fb",
   "metadata": {},
   "source": [
    "3. Write a program that will find all the numbers between 1000 and 3000 (both excluded) such that each digit of a number is an odd number. Print the number of such elements"
   ]
  },
  {
   "cell_type": "code",
   "execution_count": 1,
   "id": "df1d6d1f",
   "metadata": {},
   "outputs": [
    {
     "name": "stdout",
     "output_type": "stream",
     "text": [
      "Totalnumbers between 1000 and 3000 (both excluded) such that each digit of a number is an odd number 125\n"
     ]
    }
   ],
   "source": [
    "count=0\n",
    "flag = True\n",
    "for num in range(1001,3000):\n",
    "    while(num!=0):\n",
    "        rem=num%10\n",
    "        if(rem % 2==0):\n",
    "            flag= False\n",
    "            break\n",
    "        elif(rem % 2!=0):\n",
    "            flag=True\n",
    "        num//=10 \n",
    "    if(flag==True):\n",
    "        count+=1\n",
    "print(\"Totalnumbers between 1000 and 3000 (both excluded) such that each digit of a number is an odd number\",count)\n",
    "    "
   ]
  },
  {
   "cell_type": "markdown",
   "id": "9ed646af",
   "metadata": {},
   "source": [
    "4. Write a program that accepts a string and calculates the number of letters and digits.\n",
    "Suppose if the entered string is: Edureka123\n",
    "Then the output will be:\n",
    "LETTERS: - 7\n",
    "DIGITS: - 3"
   ]
  },
  {
   "cell_type": "code",
   "execution_count": 7,
   "id": "48d62349",
   "metadata": {},
   "outputs": [
    {
     "name": "stdout",
     "output_type": "stream",
     "text": [
      "Edureka123\n",
      "LETTERS: 7\n",
      "DIGITS: 3\n"
     ]
    }
   ],
   "source": [
    "string = input()\n",
    "Letters = 0\n",
    "Digits = 0\n",
    "for char in string:\n",
    "    if(char.isalpha()):\n",
    "        Letters+=1\n",
    "    if(char.isdigit()):\n",
    "        Digits+=1\n",
    "print(\"LETTERS:\",Letters)\n",
    "print(\"DIGITS:\",Digits)"
   ]
  },
  {
   "cell_type": "markdown",
   "id": "df6efc91",
   "metadata": {},
   "source": [
    "5. Design a code which will find whether the given number is Palindrome number or not."
   ]
  },
  {
   "cell_type": "code",
   "execution_count": 15,
   "id": "ea03ac45",
   "metadata": {},
   "outputs": [
    {
     "name": "stdout",
     "output_type": "stream",
     "text": [
      "1234\n",
      "1234 is not a Palindrome\n"
     ]
    }
   ],
   "source": [
    " "
   ]
  }
 ],
 "metadata": {
  "kernelspec": {
   "display_name": "Python 3 (ipykernel)",
   "language": "python",
   "name": "python3"
  },
  "language_info": {
   "codemirror_mode": {
    "name": "ipython",
    "version": 3
   },
   "file_extension": ".py",
   "mimetype": "text/x-python",
   "name": "python",
   "nbconvert_exporter": "python",
   "pygments_lexer": "ipython3",
   "version": "3.9.7"
  }
 },
 "nbformat": 4,
 "nbformat_minor": 5
}
