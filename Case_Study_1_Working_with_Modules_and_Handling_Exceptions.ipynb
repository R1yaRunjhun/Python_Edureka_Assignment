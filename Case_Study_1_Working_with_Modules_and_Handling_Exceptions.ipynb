{
 "cells": [
  {
   "cell_type": "markdown",
   "id": "86557c1e",
   "metadata": {},
   "source": [
    "Business challenge/requirement\n",
    "\n",
    "Bank of Portugal runs a marketing campaign to offer loans to clients. The loan is offered to only clients in selective professions. List of successful campaigns (with client data) is given in attached dataset. You must come up with a program which reads the file and builds a set of unique profession list. Based on the given input professions of the client, system tells whether the client is eligible to be approached for the marketing campaign.\n",
    "\n",
    "Key issues\n",
    "\n",
    "Tele Caller can only make x number of cold calls in a day. Hence to increase her effectiveness only eligible customers should be contacted.\n",
    "\n",
    "Considerations: Current system does not differentiate clients based on age and profession \n",
    "\n",
    "Data volume: 447 records in bank-data.csv\n",
    "\n",
    "Additional information- NA\n",
    "\n",
    "Business benefits:Company can achieve between 15% to 20% higher conversion by targeting right clients \n",
    "\n",
    "Approach to Solve\n",
    "You must use fundamentals of Python taught in module 3\n",
    "\n",
    "1. Read file bank-data.csv\n",
    "\n",
    "2. Build a set of unique jobs\n",
    "\n",
    "3. Read the input from command line –profession\n",
    "\n",
    "4. Check if profession is in list\n",
    "\n",
    "5. Print whether client is eligible\n",
    "\n",
    "Enhancements for code\n",
    "\n",
    "You can try these enhancements in code\n",
    "\n",
    "1. Compute max and min age for loan eligibility based on data in csv file\n",
    "\n",
    "2. Store max and min age in dictionary\n",
    "\n",
    "3. Make the profession check case insensitive\n",
    "\n",
    "4. Currently program ends after the check. Take the input in while loop and end only if user "
   ]
  },
  {
   "cell_type": "code",
   "execution_count": 1,
   "id": "a8968343",
   "metadata": {},
   "outputs": [],
   "source": [
    "import pandas as pd"
   ]
  },
  {
   "cell_type": "code",
   "execution_count": 2,
   "id": "c022332e",
   "metadata": {},
   "outputs": [],
   "source": [
    "class bank_data:\n",
    "    def __init__(self,job,age):\n",
    "        self.job= job\n",
    "        self.age= age\n",
    "    def eligibility(self,prof_check):\n",
    "        if(prof_check.upper() in self.job): #Makes the profession check case insensitive\n",
    "            print(\"Client is eligible for loan.\")\n",
    "        else:\n",
    "            print(\"Client is not eligible for loan.\")\n",
    "    def min_max_age(self): #Compute max and min age for loan eligibility based on data in csv file\n",
    "        min_max_dic={}\n",
    "        min_max_dic[\"max\"]=max(self.age) #Store max and min age in dictionary\n",
    "        min_max_dic[\"min\"]=min(self.age) #Store max and min age in dictionary\n",
    "        return min_max_dic"
   ]
  },
  {
   "cell_type": "code",
   "execution_count": 3,
   "id": "b1aaf7dd",
   "metadata": {},
   "outputs": [
    {
     "name": "stdout",
     "output_type": "stream",
     "text": [
      "Enter the profession you want to check for the eligilibilty:student\n",
      "Client is eligible for loan.\n",
      "Enter 0 to exit and 1 to continue:1\n",
      "Enter the profession you want to check for the eligilibilty:riya\n",
      "Client is not eligible for loan.\n",
      "Enter 0 to exit and 1 to continue:0\n"
     ]
    },
    {
     "data": {
      "text/plain": [
       "{'max': 80, 'min': 19}"
      ]
     },
     "execution_count": 3,
     "metadata": {},
     "output_type": "execute_result"
    }
   ],
   "source": [
    "file=pd.read_csv(\"bank-data.csv\")\n",
    "job= list(map(lambda x:x.upper(),set(file[\"job\"].tolist())))\n",
    "age= set(file[\"age\"].tolist())\n",
    "bank_instance= bank_data(job,age)\n",
    "flag =1\n",
    "while (flag>0):\n",
    "    prof_check=input(\"Enter the profession you want to check for the eligilibilty:\")\n",
    "    bank_instance.eligibility(prof_check)\n",
    "    flag=int(input(\"Enter 0 to exit and 1 to continue:\"))\n",
    "bank_instance.min_max_age()"
   ]
  },
  {
   "cell_type": "code",
   "execution_count": null,
   "id": "0878b1d0",
   "metadata": {},
   "outputs": [],
   "source": []
  }
 ],
 "metadata": {
  "kernelspec": {
   "display_name": "Python 3 (ipykernel)",
   "language": "python",
   "name": "python3"
  },
  "language_info": {
   "codemirror_mode": {
    "name": "ipython",
    "version": 3
   },
   "file_extension": ".py",
   "mimetype": "text/x-python",
   "name": "python",
   "nbconvert_exporter": "python",
   "pygments_lexer": "ipython3",
   "version": "3.9.7"
  }
 },
 "nbformat": 4,
 "nbformat_minor": 5
}
