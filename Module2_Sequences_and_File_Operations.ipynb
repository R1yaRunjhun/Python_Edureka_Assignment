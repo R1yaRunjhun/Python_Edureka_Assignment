{
 "cells": [
  {
   "cell_type": "markdown",
   "id": "71cae899",
   "metadata": {},
   "source": [
    "1. Smith wishes to register in a ticket booking website for booking bus tickets. For authenticate the registration, he needs to provide user-id and password. There are some built-in rules for checking the validity of the passwords entered by the users. Following are the rules for checking the validity of a password:\n",
    "\n",
    "i. At least 1 alphabet\n",
    "\n",
    "ii. At least 1 digit between [0-9]\n",
    "\n",
    "iii. At least 1 character from [@&]\n",
    "\n",
    "iv. Minimum length of transaction password: 5\n",
    "\n",
    "v. Maximum length of transaction password: 10"
   ]
  },
  {
   "cell_type": "code",
   "execution_count": 2,
   "id": "dc1f20ab",
   "metadata": {},
   "outputs": [
    {
     "name": "stdout",
     "output_type": "stream",
     "text": [
      "riya@123\n",
      "valid Password\n"
     ]
    }
   ],
   "source": [
    "password =input()\n",
    "char_flag = False\n",
    "Digit_flag =False\n",
    "alpha_flag =False\n",
    "len_flag= False\n",
    "if(len(password) in range(5, 11)):\n",
    "    len_flag= True\n",
    "    for char in password:\n",
    "        if(char.isalpha()):\n",
    "            alpha_flag =True\n",
    "        if(char.isdigit()):\n",
    "            Digit_flag =True\n",
    "        if(char=='@'or char=='&'):\n",
    "            char_flag =True \n",
    "else:\n",
    "    print(\"Invalid Password\")\n",
    "if(alpha_flag and Digit_flag and char_flag and len_flag):\n",
    "    print(\"valid Password\")\n",
    "else:\n",
    "    print(\"Invalid Password\")"
   ]
  },
  {
   "cell_type": "markdown",
   "id": "ba04f6e1",
   "metadata": {},
   "source": [
    "2. Write a program for printing all elements of a list and their indexes in the list. Take the list as a user input."
   ]
  },
  {
   "cell_type": "code",
   "execution_count": 4,
   "id": "89620e75",
   "metadata": {},
   "outputs": [
    {
     "name": "stdout",
     "output_type": "stream",
     "text": [
      "enter the your value by comma separation:1,2,3\n",
      "The value at index 0 is : 1\n",
      "The value at index 1 is : 2\n",
      "The value at index 2 is : 3\n"
     ]
    }
   ],
   "source": [
    "ls= input(\"enter the your value by comma separation:\").split(\",\")\n",
    "for i in range(len(ls)):\n",
    "    print(\"The value at index\", i ,\"is :\", ls[i] )"
   ]
  },
  {
   "cell_type": "markdown",
   "id": "e0439aa3",
   "metadata": {},
   "source": [
    "3. Write a program which accepts a string from the console and print the characters that have even indexes if the character is an alphabet. Concatenate the characters and print.\n",
    "\n",
    "Example: If the following string is given as input to the program:\n",
    "\n",
    "Ed12ur3ka1Python12\n",
    "\n",
    "Then, the output of the program should be:\n",
    "\n",
    "EuaPto"
   ]
  },
  {
   "cell_type": "code",
   "execution_count": 3,
   "id": "a4c39cb8",
   "metadata": {},
   "outputs": [
    {
     "name": "stdout",
     "output_type": "stream",
     "text": [
      "Ed12ur3ka1Python12\n",
      "EuaPto\n"
     ]
    }
   ],
   "source": [
    "String = input()\n",
    "output_str= \"\"\n",
    "for i in String:\n",
    "    if(i.isalpha() and String.index(i)%2==0):\n",
    "        output_str=output_str+i\n",
    "print(output_str)\n",
    "        "
   ]
  },
  {
   "cell_type": "markdown",
   "id": "26617fb2",
   "metadata": {},
   "source": [
    "4. Please write a program which accepts a string from console and print it in reverse order.\n",
    "Example: If the following string is given as input to the program:\n",
    "welcome to edureka\n",
    "Then, the output of the program should be: akerude ot emoclew"
   ]
  },
  {
   "cell_type": "code",
   "execution_count": 3,
   "id": "9195e672",
   "metadata": {},
   "outputs": [
    {
     "name": "stdout",
     "output_type": "stream",
     "text": [
      "welcome to edureka\n",
      "akerude ot emoclew\n"
     ]
    }
   ],
   "source": [
    "String = input()\n",
    "Reverse_string = String[::-1]\n",
    "print(Reverse_string)"
   ]
  },
  {
   "cell_type": "markdown",
   "id": "30758ece",
   "metadata": {},
   "source": [
    "5. Please write a program which counts and prints the numbers of each character in a string input by the console.\n",
    "Example: If the following string is given as input to the program:\n",
    "\n",
    "abcdefgabc\n",
    "\n",
    "Then, the output of the program should be:\n",
    "\n",
    "\n",
    "a,2\n",
    "\n",
    "c,2\n",
    "\n",
    "b,2\n",
    "\n",
    "e,1\n",
    "\n",
    "d,1\n",
    "\n",
    "g,1\n",
    "\n",
    "f,1"
   ]
  },
  {
   "cell_type": "code",
   "execution_count": 22,
   "id": "032cd761",
   "metadata": {},
   "outputs": [
    {
     "name": "stdout",
     "output_type": "stream",
     "text": [
      "abcdefgabc\n",
      "a 2\n",
      "c 2\n",
      "g 1\n",
      "e 1\n",
      "f 1\n",
      "d 1\n",
      "b 2\n"
     ]
    }
   ],
   "source": [
    "String =input()\n",
    "letter_list=[char for char in String]\n",
    "letter_set =set(letter_list)\n",
    "for char in letter_set:\n",
    "    print(char,letter_list.count(char))"
   ]
  },
  {
   "cell_type": "markdown",
   "id": "1ba10884",
   "metadata": {},
   "source": [
    "6. Given: Lists [1,5,10,12,34,13] and [4,7,8,10,5,13,24].\n",
    "With the above give lists, write a program to create a new list whose elements are intersection of the above given lists."
   ]
  },
  {
   "cell_type": "code",
   "execution_count": 35,
   "id": "584488ac",
   "metadata": {},
   "outputs": [
    {
     "name": "stdout",
     "output_type": "stream",
     "text": [
      "[5, 10, 13]\n"
     ]
    }
   ],
   "source": [
    "list1=[1,5,10,12,34,13] \n",
    "list2=[4,7,8,10,5,13,24]\n",
    "#list3 = [elem for elem in set(list1).intersection(set(list2))]\n",
    "list3 = [value for value in list1 if value in list2]\n",
    "print(list3)"
   ]
  },
  {
   "cell_type": "markdown",
   "id": "8c2ab486",
   "metadata": {},
   "source": [
    "7. By using list comprehension, please write a program to print the list after removing the values which are divisible by 6 in [12,24,35,24,88,120,155]."
   ]
  },
  {
   "cell_type": "code",
   "execution_count": 6,
   "id": "e069bc21",
   "metadata": {},
   "outputs": [
    {
     "name": "stdout",
     "output_type": "stream",
     "text": [
      "[35, 88, 155]\n"
     ]
    }
   ],
   "source": [
    "list =[12,24,35,24,88,120,155]\n",
    "print ([elem for elem in list if elem % 6 !=0])"
   ]
  },
  {
   "cell_type": "markdown",
   "id": "171f29f6",
   "metadata": {},
   "source": [
    "8. By using list comprehension, please write a program to print the list after removing the 1st,3rd ,5th numbers in [12,24,35,70,88,120,155]."
   ]
  },
  {
   "cell_type": "code",
   "execution_count": 9,
   "id": "20334ef1",
   "metadata": {},
   "outputs": [
    {
     "name": "stdout",
     "output_type": "stream",
     "text": [
      "[24, 24, 120, 155]\n"
     ]
    }
   ],
   "source": [
    "list =[12,24,35,24,88,120,155]\n",
    "print ([elem for elem in list if list.index(elem) not in[0,2,4]])"
   ]
  },
  {
   "cell_type": "markdown",
   "id": "3ad80105",
   "metadata": {},
   "source": [
    "9. Please write a program to randomly generate a list with 6 numbers, which are divisible by 5 and 7, between 1 and 1500 inclusive."
   ]
  },
  {
   "cell_type": "code",
   "execution_count": 2,
   "id": "466b159a",
   "metadata": {},
   "outputs": [
    {
     "name": "stdout",
     "output_type": "stream",
     "text": [
      "[315, 770, 770, 560, 350, 1190]\n"
     ]
    }
   ],
   "source": [
    "import random\n",
    "list=[]\n",
    "while(len(list)!=6):\n",
    "    n = random.randint(1,1500)\n",
    "    if(n%5==0 and n%7==0):\n",
    "        list.append(n)\n",
    "print(list)\n",
    "    "
   ]
  },
  {
   "cell_type": "markdown",
   "id": "0b63381c",
   "metadata": {},
   "source": [
    "10. Write a program to compute 1/2+2/3+3/4+...+n/n+1 with a given n input by console (n>0).\n",
    "\n",
    "Example:\n",
    "\n",
    "If the following n is given as input to the program:\n",
    "\n",
    "5\n",
    "\n",
    "Then, the output of the program should be:\n",
    "\n",
    "3.55"
   ]
  },
  {
   "cell_type": "code",
   "execution_count": 5,
   "id": "1e7dbbd5",
   "metadata": {},
   "outputs": [
    {
     "name": "stdout",
     "output_type": "stream",
     "text": [
      "5\n",
      "3.55\n"
     ]
    }
   ],
   "source": [
    "Number = int(input())\n",
    "Eval = 0\n",
    "for i in range(1,Number+1):\n",
    "    Eval+= i/(i+1)\n",
    "print(round(Eval,2))"
   ]
  }
 ],
 "metadata": {
  "kernelspec": {
   "display_name": "Python 3 (ipykernel)",
   "language": "python",
   "name": "python3"
  },
  "language_info": {
   "codemirror_mode": {
    "name": "ipython",
    "version": 3
   },
   "file_extension": ".py",
   "mimetype": "text/x-python",
   "name": "python",
   "nbconvert_exporter": "python",
   "pygments_lexer": "ipython3",
   "version": "3.9.7"
  }
 },
 "nbformat": 4,
 "nbformat_minor": 5
}
