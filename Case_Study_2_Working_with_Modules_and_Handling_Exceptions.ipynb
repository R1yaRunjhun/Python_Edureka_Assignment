{
 "cells": [
  {
   "cell_type": "markdown",
   "id": "0e0b0fe1",
   "metadata": {},
   "source": [
    "Domain – E-Commerce\n",
    "\n",
    "Focus – Optimization\n",
    "\n",
    "Business challenge/requirement\n",
    "\n",
    "GoodsKart—largest e-commerce company of Indonesia, with revenue of $2B+ has acquired another e-commerce company FairDeal. FairDeal has its own IT system to maintain the records of customers, sales etc. For ease of maintenance and cost savings, GoodsKart is integrating customer databases of both the organizations hence customer data of FairDeal must be converted in GoodsKart customer data format.\n",
    "\n",
    "Key issues\n",
    "\n",
    "GoodsKart customer data has more fields than in FairDeal customer data. Hence FairDeal data needs to be split and stored in GoodsKart Customer Object-Oriented Data Structure.\n",
    "\n",
    "Considerations: System should convert the data at run time\n",
    "\n",
    "Data volume:- NA\n",
    "\n",
    "Additional information:- NA\n",
    "\n",
    "Business benefits:GoodsKart can eventually restructure IT systems of FairDeal and reduce its cost by 20-30%\n",
    "\n",
    "Approach to Solve\n",
    "\n",
    "You must use fundamentals of Python taught in module 3.\n",
    "\n",
    "1. Read FairDealCustomerData.csv\n",
    "\n",
    "2. Name field contains full name – use regular expression to separate title, first name, lastname\n",
    "\n",
    "3. Store the data in Customer Class\n",
    "\n",
    "\n",
    "4. Create Custom Exception – CustomerNotAllowedException\n",
    "\n",
    "5. Pass a customer to function \"createOrder\" and throw CustomerNotAllowedException in case of blacklisted value is 1\n",
    "\n",
    "Enhancements for code\n",
    "\n",
    "You can try these enhancements in code\n",
    "\n",
    "1. Change function createOrder to take productname and product code as input\n",
    "\n",
    "2. Create Class Order\n",
    "\n",
    "Return object of type Order in case customer is eligible\n"
   ]
  },
  {
   "cell_type": "code",
   "execution_count": 2,
   "id": "8975d413",
   "metadata": {},
   "outputs": [],
   "source": [
    "import numpy\n",
    "import pandas\n",
    "arr = numpy.array(['A','B', 30, 40, 50])\n",
    "series = pandas.Series(arr)"
   ]
  },
  {
   "cell_type": "code",
   "execution_count": null,
   "id": "436be10c",
   "metadata": {},
   "outputs": [],
   "source": []
  }
 ],
 "metadata": {
  "kernelspec": {
   "display_name": "Python 3 (ipykernel)",
   "language": "python",
   "name": "python3"
  },
  "language_info": {
   "codemirror_mode": {
    "name": "ipython",
    "version": 3
   },
   "file_extension": ".py",
   "mimetype": "text/x-python",
   "name": "python",
   "nbconvert_exporter": "python",
   "pygments_lexer": "ipython3",
   "version": "3.9.7"
  }
 },
 "nbformat": 4,
 "nbformat_minor": 5
}
