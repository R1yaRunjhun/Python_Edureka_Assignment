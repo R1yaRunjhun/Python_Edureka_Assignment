{
 "cells": [
  {
   "cell_type": "markdown",
   "id": "89d60099",
   "metadata": {},
   "source": [
    "Domain – E-Commerce\n",
    "\n",
    "Focus – Optimization\n",
    "\n",
    "Business challenge/requirement\n",
    "\n",
    "GoodsKart—largest e-commerce company of Indonesia, with revenue of $2B+ has acquired another e-commerce company FairDeal. FairDeal has its own IT system to maintain the records of customers, sales etc. For ease of maintenance and cost savings, GoodsKart is integrating customer databases of both the organizations hence customer data of FairDeal must be\n",
    "converted in GoodsKart customer data format.\n",
    "\n",
    "Key issues\n",
    "\n",
    "GoodsKart customer data has more fields than in FairDeal customer data. Hence FairDeal data needs to be split and stored in GoodsKart Customer Object-Oriented Data Structure.\n",
    "\n",
    "Considerations\n",
    "System should convert the data at run time\n",
    "\n",
    "Data volume\n",
    "- NA\n",
    "\n",
    "Additional information\n",
    "- NA\n",
    "\n",
    "Business benefits\n",
    "GoodsKart can eventually restructure IT systems of FairDeal and reduce its cost by 20-30%\n",
    "\n",
    "Approach to Solve\n",
    "\n",
    "You must use fundamentals of Python taught in module 3.\n",
    "\n",
    "1. Read FairDealCustomerData.csv\n",
    "2. Name field contains full name – use regular expression to separate title, first name, last name\n",
    "3. Store the data in Customer Class\n",
    "4. Create Custom Exception – CustomerNotAllowedException\n",
    "5. Pass a customer to function \"createOrder\" and throw CustomerNotAllowedException in case of blacklisted value is 1 Enhancements for code\n",
    "\n",
    "You can try these enhancements in code\n",
    "\n",
    "1. Change function createOrder to take productname and product code as input\n",
    "2. Create Class Order\n",
    "Return object of type Order in case customer is eligible"
   ]
  },
  {
   "cell_type": "code",
   "execution_count": 1,
   "id": "0d0c8da9",
   "metadata": {},
   "outputs": [],
   "source": [
    "import numpy as np\n",
    "import pandas as pd\n",
    "import re"
   ]
  },
  {
   "cell_type": "code",
   "execution_count": 2,
   "id": "b3d39b11",
   "metadata": {},
   "outputs": [],
   "source": [
    "df = pd.read_csv('FairDealCustomerData.csv')"
   ]
  },
  {
   "cell_type": "code",
   "execution_count": 4,
   "id": "43490614",
   "metadata": {},
   "outputs": [
    {
     "data": {
      "text/plain": [
       "Index(['Last_name', 'Full_name', 'number'], dtype='object')"
      ]
     },
     "execution_count": 4,
     "metadata": {},
     "output_type": "execute_result"
    }
   ],
   "source": [
    "df.columns\n",
    "df.columns = ['Last_name','Full_name','number']\n",
    "df.columns"
   ]
  },
  {
   "cell_type": "code",
   "execution_count": 5,
   "id": "7f74e037",
   "metadata": {},
   "outputs": [],
   "source": [
    "df['Title'] = df['Full_name'].apply(lambda Full_name: Full_name.split(' ')[1])\n",
    "df['First_name'] = df['Full_name'].apply(lambda Full_name: Full_name.split(' ')[2])\n",
    "df['Middle_name'] = df['Full_name'].apply(lambda Full_name: Full_name.split(' ')[3])"
   ]
  },
  {
   "cell_type": "code",
   "execution_count": 6,
   "id": "e14a7b3b",
   "metadata": {},
   "outputs": [],
   "source": [
    "class MyClass:\n",
    "\n",
    "    def __init__(self, df):\n",
    "        self.df = df\n",
    "\n",
    "a = MyClass(df)\n",
    "b = MyClass(df)"
   ]
  },
  {
   "cell_type": "code",
   "execution_count": 9,
   "id": "5ef1e5eb",
   "metadata": {},
   "outputs": [],
   "source": [
    "class CustomerNotAllowedException(RuntimeError): \n",
    "    def __init__(self, arg):\n",
    "        self.args = arg"
   ]
  },
  {
   "cell_type": "code",
   "execution_count": 10,
   "id": "8c492fa4",
   "metadata": {},
   "outputs": [],
   "source": [
    "class CustomerNotAllowedException(Exception):\n",
    "    def __init__(self, number, message=\"Customer is blacklisted\"):\n",
    "        self.number = number\n",
    "        self.message = message\n",
    "        super().__init__(self.message)"
   ]
  },
  {
   "cell_type": "code",
   "execution_count": 11,
   "id": "299c831e",
   "metadata": {},
   "outputs": [],
   "source": [
    "class Customer:\n",
    "    title = \"\"\n",
    "    fname = \"\"\n",
    "    lname = \"\"\n",
    "    isblacklisted = 0;\n",
    "\n",
    "    def __init__(self):\n",
    "        self.title = \"\"\n",
    "\n",
    "    def __str__(self):\n",
    "        return \"Title:\" + self.title + \" First Name:\" + self.fname + \" Last Name:\" + self.lname + \" Blacklisted:\" + self.isblacklisted\n",
    "\n",
    "    def setIsblacklisted(self,isblacklisted):\n",
    "        self.isblacklisted = isblacklisted\n",
    "\n",
    "    def isblacklisted(self):\n",
    "        return self.isblacklisted\n",
    "\n",
    "    def setTitle(self,title):\n",
    "        self.title = title\n",
    "\n",
    "    def getTitle(self):\n",
    "        return self.title\n",
    "\n",
    "    def setFname(self,fname):\n",
    "        self.fname = fname\n",
    "\n",
    "    def getFname(self):\n",
    "        return self.fname\n",
    "\n",
    "    def setLname(self,lname):\n",
    "        self.lname = lname\n",
    "\n",
    "    def getLname(self):\n",
    "        return self.lname\n",
    "\n",
    "\n",
    "\n",
    "# customer1 = Customer()\n",
    "# customer1.setTitle(\"Mr.\")\n",
    "# customer1.setFname(\"Barack\")\n",
    "# customer1.setLname(\"Obama\")\n",
    "#\n",
    "# customer2 = Customer()\n",
    "# customer2.setTitle(\"Mrs.\")\n",
    "# customer2.setFname(\"George\")\n",
    "# customer2.setLname(\"Bush\")\n",
    "#\n",
    "# print(\"First Customer Title %s\" , customer1.getTitle())\n",
    "# print(\"Second Customer Title %s\" , customer2.getTitle())\n",
    "# print(\"First Customer Title %s\" , customer1.getTitle())\n",
    "\n"
   ]
  },
  {
   "cell_type": "code",
   "execution_count": null,
   "id": "dc53a763",
   "metadata": {},
   "outputs": [],
   "source": []
  }
 ],
 "metadata": {
  "kernelspec": {
   "display_name": "Python 3 (ipykernel)",
   "language": "python",
   "name": "python3"
  },
  "language_info": {
   "codemirror_mode": {
    "name": "ipython",
    "version": 3
   },
   "file_extension": ".py",
   "mimetype": "text/x-python",
   "name": "python",
   "nbconvert_exporter": "python",
   "pygments_lexer": "ipython3",
   "version": "3.9.7"
  }
 },
 "nbformat": 4,
 "nbformat_minor": 5
}
