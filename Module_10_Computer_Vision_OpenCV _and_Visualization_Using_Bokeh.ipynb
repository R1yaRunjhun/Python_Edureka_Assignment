{
 "cells": [
  {
   "cell_type": "markdown",
   "id": "37f2d987",
   "metadata": {},
   "source": [
    "1. Write a program to fetch hyperlinks from any website entered by the user."
   ]
  },
  {
   "cell_type": "code",
   "execution_count": 3,
   "id": "b63c0142",
   "metadata": {},
   "outputs": [
    {
     "name": "stdout",
     "output_type": "stream",
     "text": [
      "Collecting bs4\n",
      "  Downloading bs4-0.0.1.tar.gz (1.1 kB)\n",
      "Requirement already satisfied: beautifulsoup4 in c:\\users\\riya\\anaconda3\\lib\\site-packages (from bs4) (4.10.0)\n",
      "Requirement already satisfied: soupsieve>1.2 in c:\\users\\riya\\anaconda3\\lib\\site-packages (from beautifulsoup4->bs4) (2.2.1)\n",
      "Building wheels for collected packages: bs4\n",
      "  Building wheel for bs4 (setup.py): started\n",
      "  Building wheel for bs4 (setup.py): finished with status 'done'\n",
      "  Created wheel for bs4: filename=bs4-0.0.1-py3-none-any.whl size=1271 sha256=bc7db3c75433c405e2ba0fc25995817f4aea4142a4f033983b70aa31958649dd\n",
      "  Stored in directory: c:\\users\\riya\\appdata\\local\\pip\\cache\\wheels\\73\\2b\\cb\\099980278a0c9a3e57ff1a89875ec07bfa0b6fcbebb9a8cad3\n",
      "Successfully built bs4\n",
      "Installing collected packages: bs4\n",
      "Successfully installed bs4-0.0.1\n"
     ]
    }
   ],
   "source": [
    "!pip install bs4"
   ]
  },
  {
   "cell_type": "code",
   "execution_count": 12,
   "id": "3511446f",
   "metadata": {},
   "outputs": [
    {
     "name": "stdout",
     "output_type": "stream",
     "text": [
      "Enter the link here: https://www.geeksforgeeks.org/\n",
      "['#main', 'https://www.geeksforgeeks.org/', 'https://www.geeksforgeeks.org/must-do-coding-questions-for-product-based-companies/?ref=ghm', 'https://practice.geeksforgeeks.org/topic-tags/', 'https://practice.geeksforgeeks.org/company-tags', 'https://www.geeksforgeeks.org/analysis-of-algorithms-set-1-asymptotic-analysis/?ref=ghm', 'https://www.geeksforgeeks.org/analysis-of-algorithms-set-2-asymptotic-analysis/?ref=ghm', 'https://www.geeksforgeeks.org/analysis-of-algorithms-set-3asymptotic-notations/?ref=ghm', 'https://www.geeksforgeeks.org/analysis-of-algorithems-little-o-and-little-omega-notations/?ref=ghm', 'https://www.geeksforgeeks.org/lower-and-upper-bound-theory/?ref=ghm', 'https://www.geeksforgeeks.org/analysis-of-algorithms-set-4-analysis-of-loops/?ref=ghm', 'https://www.geeksforgeeks.org/analysis-algorithm-set-4-master-method-solving-recurrences/?ref=ghm', 'https://www.geeksforgeeks.org/analysis-algorithm-set-5-amortized-analysis-introduction/?ref=ghm', 'https://www.geeksforgeeks.org/g-fact-86/?ref=ghm', 'https://www.geeksforgeeks.org/pseudo-polynomial-in-algorithms/?ref=ghm', 'https://www.geeksforgeeks.org/polynomial-time-approximation-scheme/?ref=ghm', 'https://www.geeksforgeeks.org/a-time-complexity-question/?ref=ghm', 'https://www.geeksforgeeks.org/searching-algorithms/?ref=ghm', 'https://www.geeksforgeeks.org/sorting-algorithms/?ref=ghm', 'https://www.geeksforgeeks.org/graph-data-structure-and-algorithms/?ref=ghm', 'https://www.geeksforgeeks.org/algorithms-gq/pattern-searching/?ref=ghm', 'https://www.geeksforgeeks.org/geometric-algorithms/?ref=ghm', 'https://www.geeksforgeeks.org/mathematical-algorithms/?ref=ghm', 'https://www.geeksforgeeks.org/bitwise-algorithms/?ref=ghm', 'https://www.geeksforgeeks.org/randomized-algorithms/?ref=ghm', 'https://www.geeksforgeeks.org/greedy-algorithms/?ref=ghm', 'https://www.geeksforgeeks.org/dynamic-programming/?ref=ghm', 'https://www.geeksforgeeks.org/divide-and-conquer/?ref=ghm', 'https://www.geeksforgeeks.org/backtracking-algorithms/?ref=ghm', 'https://www.geeksforgeeks.org/branch-and-bound-algorithm/?ref=ghm', 'https://www.geeksforgeeks.org/fundamentals-of-algorithms/?ref=ghm', 'https://www.geeksforgeeks.org/array-data-structure/?ref=ghm', 'https://www.geeksforgeeks.org/data-structures/linked-list/?ref=ghm', 'https://www.geeksforgeeks.org/stack-data-structure/?ref=ghm', 'https://www.geeksforgeeks.org/queue-data-structure/?ref=ghm', 'https://www.geeksforgeeks.org/binary-tree-data-structure/?ref=ghm', 'https://www.geeksforgeeks.org/binary-search-tree-data-structure/?ref=ghm', 'https://www.geeksforgeeks.org/heap-data-structure/?ref=ghm', 'https://www.geeksforgeeks.org/hashing-data-structure/?ref=ghm', 'https://www.geeksforgeeks.org/graph-data-structure-and-algorithms/?ref=ghm', 'https://www.geeksforgeeks.org/advanced-data-structures/?ref=ghm', 'https://www.geeksforgeeks.org/matrix/?ref=ghm', 'https://www.geeksforgeeks.org/string-data-structure/?ref=ghm', 'https://www.geeksforgeeks.org/data-structures/?ref=ghm', 'https://www.geeksforgeeks.org/company-preparation/?ref=ghm', 'https://www.geeksforgeeks.org/interview-preparation-for-software-developer/?ref=ghm', 'https://practice.geeksforgeeks.org/company-tags/?ref=ghm', 'https://www.geeksforgeeks.org/company-interview-corner/?ref=ghm', 'https://www.geeksforgeeks.org/experienced-interview-experiences-company-wise/?ref=ghm', 'https://www.geeksforgeeks.org/internship-interview-experiences-company-wise/?ref=ghm', 'https://www.geeksforgeeks.org/competitive-programming-a-complete-guide/?ref=ghm', 'https://www.geeksforgeeks.org/software-design-patterns/?ref=ghm', 'https://www.geeksforgeeks.org/system-design-tutorial/', 'https://www.geeksforgeeks.org/quiz-corner-gq/?ref=ghm', 'https://www.geeksforgeeks.org/c-programming-language/?ref=ghm', 'https://www.geeksforgeeks.org/c-plus-plus/?ref=ghm', 'https://www.geeksforgeeks.org/java/?ref=ghm', 'https://www.geeksforgeeks.org/python-programming-language/?ref=ghm', 'https://www.geeksforgeeks.org/csharp-programming-language/?ref=ghm', 'https://www.geeksforgeeks.org/javascript-tutorial/?ref=ghm', 'https://www.geeksforgeeks.org/jquery-tutorials/?ref=ghm', 'https://www.geeksforgeeks.org/sql-tutorial/?ref=ghm', 'https://www.geeksforgeeks.org/php-tutorials/?ref=ghm', 'https://www.geeksforgeeks.org/scala-programming-language/?ref=ghm', 'https://www.geeksforgeeks.org/perl-programming-language/?ref=ghm', 'https://www.geeksforgeeks.org/golang/?ref=ghm', 'https://www.geeksforgeeks.org/html-tutorials/?ref=ghm', 'https://www.geeksforgeeks.org/css-tutorials/?ref=ghm', 'https://www.geeksforgeeks.org/kotlin-programming-language/?ref=ghm', 'https://www.geeksforgeeks.org/engineering-mathematics-tutorials/?ref=ghm', 'https://www.geeksforgeeks.org/operating-systems/?ref=ghm', 'https://www.geeksforgeeks.org/dbms/?ref=ghm', 'https://www.geeksforgeeks.org/computer-network-tutorials/?ref=ghm', 'https://www.geeksforgeeks.org/computer-organization-and-architecture-tutorials/?ref=ghm', 'https://www.geeksforgeeks.org/theory-of-computation-automata-tutorials/?ref=ghm', 'https://www.geeksforgeeks.org/compiler-design-tutorials/?ref=ghm', 'https://www.geeksforgeeks.org/digital-electronics-logic-design-tutorials/#blg/?ref=ghm', 'https://www.geeksforgeeks.org/software-engineering/?ref=ghm', 'https://www.geeksforgeeks.org/gate-cs-notes-gq/?ref=ghm', 'https://www.geeksforgeeks.org/lmns-gq/?ref=ghm', 'https://www.geeksforgeeks.org/gate-corner-2-gq/?ref=ghm', 'https://www.geeksforgeeks.org/original-gate-previous-year-question-papers-cse-and-it-gq/?ref=ghm', 'https://www.geeksforgeeks.org/gate-cs-2021-official-important-dates/?ref=ghm', 'https://www.geeksforgeeks.org/gate-cs-2021-revised-syllabus/?ref=ghm', 'https://www.geeksforgeeks.org/important-topics-prepare-gate-2020-computer-science-paper/?ref=ghm', 'https://www.geeksforgeeks.org/html-tutorials/?ref=ghm', 'https://www.geeksforgeeks.org/css-tutorials/?ref=ghm', 'https://www.geeksforgeeks.org/javascript-tutorial/?ref=ghm', 'https://www.geeksforgeeks.org/angularjs-tutorials/?ref=ghm', 'https://www.geeksforgeeks.org/reactjs-tutorials/?ref=ghm', 'https://www.geeksforgeeks.org/nodejs-tutorials/?ref=ghm', 'https://www.geeksforgeeks.org/bootstrap-tutorials/?ref=ghm', 'https://www.geeksforgeeks.org/jquery-tutorials/?ref=ghm', 'https://www.geeksforgeeks.org/php-tutorials/?ref=ghm', 'https://www.geeksforgeeks.org/software-design-patterns/?ref=ghm', 'https://www.geeksforgeeks.org/system-design-tutorial/?ref=ghm', 'https://www.geeksforgeeks.org/school-learning/?ref=ghm', 'https://www.geeksforgeeks.org/number-system-and-arithmetic/?ref=ghm', 'https://www.geeksforgeeks.org/algebra/?ref=ghm', 'https://www.geeksforgeeks.org/trigonometry/?ref=ghm', 'https://www.geeksforgeeks.org/statistics/?ref=ghm', 'https://www.geeksforgeeks.org/probability-in-maths/?ref=ghm', 'https://www.geeksforgeeks.org/geometry/?ref=ghm', 'https://www.geeksforgeeks.org/mensuration/?ref=ghm', 'https://www.geeksforgeeks.org/calculus/?ref=ghm', 'https://www.geeksforgeeks.org/cbse-class-8-maths-notes/?ref=ghm', 'https://www.geeksforgeeks.org/cbse-class-9-maths-notes/?ref=ghm', 'https://www.geeksforgeeks.org/cbse-class-10-maths-notes/?ref=ghm', 'https://www.geeksforgeeks.org/cbse-class-11-maths-notes/?ref=ghm', 'https://www.geeksforgeeks.org/cbse-class-12-maths-notes/?ref=ghm', 'https://www.geeksforgeeks.org/ncert-solutions-for-class-8-maths/?ref=ghm', 'https://www.geeksforgeeks.org/ncert-solutions-for-class-9-maths/?ref=ghm', 'https://www.geeksforgeeks.org/ncert-solutions-for-class-10-maths/?ref=ghm', 'https://www.geeksforgeeks.org/ncert-solutions-for-class-11-maths/?ref=ghm', 'https://www.geeksforgeeks.org/ncert-solutions-for-class-12-maths/?ref=ghm', 'https://www.geeksforgeeks.org/rd-sharma-class-8-solutions-for-maths/?ref=ghm', 'https://www.geeksforgeeks.org/tag/rd-sharma-class-9/?ref=ghm', 'https://www.geeksforgeeks.org/tag/rd-sharma-class-10/?ref=ghm', 'https://www.geeksforgeeks.org/tag/rd-sharma-class-11/?ref=ghm', 'https://www.geeksforgeeks.org/tag/rd-sharma-class-12/?ref=ghm', 'https://www.geeksforgeeks.org/cbse-physics-class-8-notes/?ref=ghm', 'https://www.geeksforgeeks.org/cbse-class-9-physics-notes/?ref=ghm', 'https://www.geeksforgeeks.org/cbse-notes-for-class-10-physics/?ref=ghm', 'https://www.geeksforgeeks.org/cbse-class-11-physics-notes/?ref=ghm', 'https://www.geeksforgeeks.org/isro-cs-preparation/?ref=ghm', 'https://www.geeksforgeeks.org/isro-original-papers-official-keys/?ref=ghm', 'https://www.geeksforgeeks.org/isro-cse-syllabus-scientistengineer-exam-2018/?ref=ghm', 'https://www.geeksforgeeks.org/ugc-net-cs-notes-according-to-syllabus-of-paper-ii/?ref=ghm', 'https://www.geeksforgeeks.org/ugc-net-cs-notes-according-to-syllabus-of-paper-iii-core-group/?ref=ghm', 'https://www.geeksforgeeks.org/ugc-net-cs-preparation/?ref=ghm', 'https://www.geeksforgeeks.org/campus-ambassador-program-by-geeksforgeeks/?ref=ghm', 'https://www.geeksforgeeks.org/school-ambassador/?ref=ghm', 'https://www.geeksforgeeks.org/computer-science-projects/?ref=ghm', 'https://www.geeksforgeeks.org/geek-of-the-month/?ref=ghm', 'https://www.geeksforgeeks.org/campus-geek-of-the-month/?ref=ghm', 'https://www.geeksforgeeks.org/placements-gq/?ref=ghm', 'https://www.geeksforgeeks.org/competitive-programming-a-complete-guide/?ref=ghm', 'https://www.geeksforgeeks.org/testimonials/?ref=ghm', 'https://www.geeksforgeeks.org/category/geek-on-the-top/?ref=ghm', 'https://www.geeksforgeeks.org/careers/?ref=ghm', 'https://www.geeksforgeeks.org/internship/?ref=ghm', 'https://practice.geeksforgeeks.org/jobs/?ref=ghm', 'https://www.geeksforgeeks.org/hire-with-us/?ref=ghm', 'https://practice.geeksforgeeks.org/courses/?ref=ghm', 'https://write.geeksforgeeks.org/?ref=ndm', 'https://practice.geeksforgeeks.org/?ref=ndm', 'https://premium.geeksforgeeks.org/premium-plans/?ref=ndm', 'https://practice.geeksforgeeks.org/jobs/?ref=ndm', 'https://www.geeksforgeeks.org/geeks-digest/?ref=ndm', 'https://www.geeksforgeeks.org/quiz-corner-gq/?ref=ndm', 'https://practice.geeksforgeeks.org/geeks-campus/?ref=ndm', 'https://www.geeksforgeeks.org/category/guestblogs/?ref=ndm', 'https://ide.geeksforgeeks.org/?ref=ndm', 'https://www.geeksforgeeks.org/campus-ambassador-program-by-geeksforgeeks/?ref=ndm', 'https://www.geeksforgeeks.org/?ref=ghm', 'https://www.geeksforgeeks.org/videos/watchlist/?ref=ghm', 'https://practice.geeksforgeeks.org/?ref=ghm', 'https://www.geeksforgeeks.org/category/guestblogs/?ref=ghm', 'https://www.geeksforgeeks.org/puzzles/?ref=ghm', 'https://www.geeksforgeeks.org/geeks-classes-geeksforgeeks/?ref=ghm', 'https://www.geeksforgeeks.org/data-structures/?ref=shm', 'https://www.geeksforgeeks.org/fundamentals-of-algorithms/?ref=shm', 'https://practice.geeksforgeeks.org/courses/complete-interview-preparation?utm_source=GfG&utm_medium=Home&utm_campaign=CIP_Submenu', 'https://practice.geeksforgeeks.org/topic-tags/?ref=shm', 'https://www.geeksforgeeks.org/c-plus-plus/?ref=shm', 'https://www.geeksforgeeks.org/java/?ref=shm', 'https://www.geeksforgeeks.org/python-programming-language/?ref=shm', 'https://practice.geeksforgeeks.org/courses/competitive-programming-live/?utm_source=geeksforgeeks&utm_medium=subment&utm_campaign=GFG_Submenu_CP', 'https://www.geeksforgeeks.org/machine-learning/?ref=shm', 'https://www.geeksforgeeks.org/web-development/?ref=shm', 'https://www.geeksforgeeks.org/puzzles/?ref=shm', 'https://www.geeksforgeeks.org/computer-science-projects/?ref=shm', 'https://www.geeksforgeeks.org/school-learning/?ref=shm', 'https://www.geeksforgeeks.org/must-do-coding-questions-for-product-based-companies/?ref=ghb', 'https://www.geeksforgeeks.org/category/guestblogs/', 'https://www.geeksforgeeks.org/must-do-coding-questions-for-product-based-companies/?ref=ghb', 'https://www.geeksforgeeks.org/must-do-coding-questions-for-product-based-companies/', 'https://www.geeksforgeeks.org/which-operating-system-to-choose-for-web-development/', 'https://www.geeksforgeeks.org/which-operating-system-to-choose-for-web-development/', 'https://www.geeksforgeeks.org/category/guestblogs/', 'https://www.geeksforgeeks.org/category/web-technologies/', 'https://www.geeksforgeeks.org/sebi-grade-a-2022-recruitment-it-officer-syllabus-exam-pattern-important-dates/', 'https://www.geeksforgeeks.org/sebi-grade-a-2022-recruitment-it-officer-syllabus-exam-pattern-important-dates/', 'https://www.geeksforgeeks.org/category/guestblogs/', 'https://www.geeksforgeeks.org/videos/', 'https://www.geeksforgeeks.org/videos/normalisation-vs-standardisation/', 'https://www.geeksforgeeks.org/videos/how-to-deploy-a-flutter-web-application/', 'https://www.geeksforgeeks.org/videos/5-coding-myths-that-you-must-know/', 'https://www.geeksforgeeks.org/videos/understanding-outliers-iqr-and-z-score/', 'https://www.geeksforgeeks.org/videos/how-to-create-language-translator-application-in-flutter/', 'https://www.geeksforgeeks.org/videos/how-to-send-beautiful-emails-in-python-using-django/', 'https://www.geeksforgeeks.org/videos/detection-outliers-using-iqr-and-z-score-in-ml/', 'https://www.geeksforgeeks.org/videos/10-tips-tricks-to-crack-internships-placements/', 'https://www.geeksforgeeks.org/videos/how-to-implement-picture-in-picture-pip-in-flutter/', 'https://www.geeksforgeeks.org/videos/bresenhams-line-algorithm/', 'https://www.geeksforgeeks.org/societe-generale-interview-experience-2022-on-campus/', 'https://www.geeksforgeeks.org/societe-generale-interview-experience-2022-on-campus/', 'https://www.geeksforgeeks.org/tag/on-campus/', 'https://www.geeksforgeeks.org/tag/societe-generale/', 'https://www.geeksforgeeks.org/category/interview-experiences/', 'https://www.geeksforgeeks.org/understanding-reinforcement-learning-in-depth/', 'https://www.geeksforgeeks.org/understanding-reinforcement-learning-in-depth/', 'https://www.geeksforgeeks.org/tag/artificial-intelligence/', 'https://www.geeksforgeeks.org/category/machine-learning/', 'https://www.geeksforgeeks.org/selection-of-gan-vs-adversarial-autoencoder-models/', 'https://www.geeksforgeeks.org/selection-of-gan-vs-adversarial-autoencoder-models/', 'https://www.geeksforgeeks.org/category/machine-learning/', 'https://www.geeksforgeeks.org/how-is-autoencoder-different-from-pca/', 'https://www.geeksforgeeks.org/how-is-autoencoder-different-from-pca/', 'https://www.geeksforgeeks.org/category/machine-learning/', 'https://www.geeksforgeeks.org/what-is-so-special-about-generative-adversarial-network-gan/', 'https://www.geeksforgeeks.org/what-is-so-special-about-generative-adversarial-network-gan/', 'https://www.geeksforgeeks.org/category/machine-learning/', 'https://www.geeksforgeeks.org/python-multiset/', 'https://www.geeksforgeeks.org/python-multiset/', 'https://www.geeksforgeeks.org/tag/python-modules/', 'https://www.geeksforgeeks.org/category/programming-language/python/', 'https://www.geeksforgeeks.org/propositional-logic-based-agent/', 'https://www.geeksforgeeks.org/propositional-logic-based-agent/', 'https://www.geeksforgeeks.org/tag/artificial-intelligence/', 'https://www.geeksforgeeks.org/category/machine-learning/', 'https://practice.geeksforgeeks.org/events/?ref=grb', 'https://practice.geeksforgeeks.org/courses/?ref=grb', 'https://write.geeksforgeeks.org/?ref=grb', 'https://www.geeksforgeeks.org/java/?ref=grb', 'https://www.geeksforgeeks.org/python-programming-language/?ref=grb', 'https://www.geeksforgeeks.org/data-structures/?ref=grb', 'https://practice.geeksforgeeks.org/explore/?ref=grb', 'https://www.geeksforgeeks.org/optimal-decision-making-in-multiplayer-games/', 'https://www.geeksforgeeks.org/optimal-decision-making-in-multiplayer-games/', 'https://www.geeksforgeeks.org/tag/artificial-intelligence/', 'https://www.geeksforgeeks.org/category/machine-learning/', 'https://www.geeksforgeeks.org/compiler-design-ll1-parser-in-python/', 'https://www.geeksforgeeks.org/compiler-design-ll1-parser-in-python/', 'https://www.geeksforgeeks.org/tag/python-utility/', 'https://www.geeksforgeeks.org/category/programming-language/python/', 'https://www.geeksforgeeks.org/basic-cartogram-with-r/', 'https://www.geeksforgeeks.org/basic-cartogram-with-r/', 'https://www.geeksforgeeks.org/category/misc/', 'https://www.geeksforgeeks.org/stacked-and-group-bar-charts-in-r/', 'https://www.geeksforgeeks.org/stacked-and-group-bar-charts-in-r/', 'https://www.geeksforgeeks.org/category/misc/', 'https://www.geeksforgeeks.org/visualising-the-hexabin-plot-in-r/', 'https://www.geeksforgeeks.org/visualising-the-hexabin-plot-in-r/', 'https://www.geeksforgeeks.org/category/programming-language/r-language/', 'https://www.geeksforgeeks.org/circular-barplots-and-customisation-in-r/', 'https://www.geeksforgeeks.org/circular-barplots-and-customisation-in-r/', 'https://www.geeksforgeeks.org/category/programming-language/r-language/', 'https://www.geeksforgeeks.org/page/2/', 'https://www.geeksforgeeks.org/page/3/', 'https://www.geeksforgeeks.org/page/4/', 'https://www.geeksforgeeks.org/page/5/', 'https://www.geeksforgeeks.org/page/10/', 'https://www.geeksforgeeks.org/page/20/', 'https://www.geeksforgeeks.org/page/30/', 'https://www.geeksforgeeks.org/page/2/', 'https://www.geeksforgeeks.org/page/7585/', 'https://practice.geeksforgeeks.org/courses/complete-interview-preparation?utm_source=right-bar&utm_medium=gfg&utm_campaign=dsa&utm_term=dsa', 'https://practice.geeksforgeeks.org/courses/system-design-live?utm_source=right-bar&utm_medium=gfg&utm_campaign=dsa&utm_term=dsa', 'https://practice.geeksforgeeks.org/courses/dsa-self-paced?utm_source=right-bar&utm_medium=gfg&utm_campaign=dsa&utm_term=dsa', 'https://practice.geeksforgeeks.org/events/?ref=grb', 'https://practice.geeksforgeeks.org/courses/?ref=grb', 'https://write.geeksforgeeks.org/?ref=grb', 'https://www.geeksforgeeks.org/java/?ref=grb', 'https://www.geeksforgeeks.org/python-programming-language/?ref=grb', 'https://www.geeksforgeeks.org/data-structures/?ref=grb', 'https://practice.geeksforgeeks.org/explore/?ref=grb', 'https://www.geeksforgeeks.org/featured-articles', 'https://www.geeksforgeeks.org/get-hired-with-geeksforgeeks-and-win-exciting-rewards/?ref=grb', 'https://www.geeksforgeeks.org/master-the-coding-interview-contest-series-based-on-real-interviews/?ref=grb', 'https://www.geeksforgeeks.org/recently-asked-interview-questions-in-product-based-companies/?ref=grb', 'https://www.geeksforgeeks.org/bridge-the-gap-between-engineering-and-your-dream-job-complete-interview-preparation/?ref=grb', 'https://www.geeksforgeeks.org/100-days-of-code-a-complete-guide-for-beginners-and-experienced/?ref=grb', 'https://www.geeksforgeeks.org/category/guestblogs/?ref=grb', 'https://www.geeksforgeeks.org/must-coding-questions-company-wise/?ref=grb', 'https://www.geeksforgeeks.org/practice-for-cracking-any-coding-interview/?ref=grb', 'https://www.geeksforgeeks.org/placements-gq/?ref=grb', 'https://practice.geeksforgeeks.org/courses/cip-da/?ref=grb', 'https://www.geeksforgeeks.org/gate-cs-notes-gq/?ref=grb', 'https://www.geeksforgeeks.org/machine-learning/?ref=grb', 'https://www.geeksforgeeks.org/django-tutorial/?ref=grb', 'https://www.geeksforgeeks.org/computer-science-projects/?ref=grb', 'https://practice.geeksforgeeks.org/courses/Amazon-Test-Series/?ref=grb', 'https://www.geeksforgeeks.org/company-interview-corner/?ref=grb', 'https://www.geeksforgeeks.org/the-c-standard-template-library-stl/?ref=grb', 'https://www.geeksforgeeks.org/software-design-patterns/?ref=grb', 'https://www.geeksforgeeks.org/sql-tutorial/?ref=grb', 'https://www.geeksforgeeks.org/advanced-data-structures/?ref=grb', 'https://www.geeksforgeeks.org/', 'mailto:feedback@geeksforgeeks.org', 'https://www.facebook.com/geeksforgeeks.org/', 'https://www.instagram.com/geeks_for_geeks/', 'https://in.linkedin.com/company/geeksforgeeks', 'https://twitter.com/geeksforgeeks', 'https://www.youtube.com/geeksforgeeksvideos', 'https://www.geeksforgeeks.org/about/?ref=footer', 'https://www.geeksforgeeks.org/careers/?ref=footer', 'https://www.geeksforgeeks.org/privacy-policy/?ref=footer', 'https://www.geeksforgeeks.org/about/contact-us/?ref=footer', 'https://www.geeksforgeeks.org/copyright-information/?ref=footer', 'https://www.geeksforgeeks.org/fundamentals-of-algorithms/?ref=footer', 'https://www.geeksforgeeks.org/data-structures/?ref=footer', 'https://www.geeksforgeeks.org/category/program-output/?ref=footer', 'https://www.geeksforgeeks.org/articles-on-computer-science-subjects-gq/?ref=footer', 'https://www.youtube.com/geeksforgeeksvideos/?ref=footer', 'https://www.geeksforgeeks.org/web-development/?ref=footer', 'https://www.geeksforgeeks.org/html-tutorials/?ref=footer', 'https://www.geeksforgeeks.org/css-tutorials/?ref=footer', 'https://www.geeksforgeeks.org/javascript-tutorial/?ref=footer', 'https://www.geeksforgeeks.org/bootstrap-tutorials/?ref=footer', 'https://www.geeksforgeeks.org/contribute/?ref=footer', 'https://www.geeksforgeeks.org/write-interview-experience/?ref=footer', 'https://www.geeksforgeeks.org/careers/?job_type=1&ref=footer', 'https://www.geeksforgeeks.org/videos/?ref=footer', 'https://www.geeksforgeeks.org/', 'https://www.geeksforgeeks.org/copyright-information/', 'https://www.geeksforgeeks.org/cookie-policy/', 'https://www.geeksforgeeks.org/privacy-policy/']\n"
     ]
    }
   ],
   "source": [
    "from bs4 import BeautifulSoup\n",
    "from urllib.request import Request, urlopen\n",
    "import re\n",
    "\n",
    "req = Request(input(\"Enter the link here: \"))\n",
    "html_page = urlopen(req)\n",
    "\n",
    "soup = BeautifulSoup(html_page, \"lxml\")\n",
    "\n",
    "links = []\n",
    "for link in soup.findAll('a'):\n",
    "    links.append(link.get('href'))\n",
    "\n",
    "print(links)"
   ]
  },
  {
   "cell_type": "markdown",
   "id": "f98d9140",
   "metadata": {},
   "source": [
    "2. Write a program to download all the videos from youtube.com for Django from the hyperlink given below.\n",
    "https://www.youtube.com/playlist?list=PLxxA5z-8B2xk4szCgFmgonNcCboyNneMD"
   ]
  },
  {
   "cell_type": "code",
   "execution_count": 14,
   "id": "88e0ea6e",
   "metadata": {},
   "outputs": [
    {
     "name": "stdout",
     "output_type": "stream",
     "text": [
      "Collecting pytube\n",
      "  Downloading pytube-12.0.0-py3-none-any.whl (56 kB)\n",
      "Installing collected packages: pytube\n",
      "Successfully installed pytube-12.0.0\n"
     ]
    }
   ],
   "source": [
    "!pip install pytube"
   ]
  },
  {
   "cell_type": "code",
   "execution_count": 15,
   "id": "12f1241f",
   "metadata": {},
   "outputs": [
    {
     "name": "stdout",
     "output_type": "stream",
     "text": [
      "Load finished\n"
     ]
    }
   ],
   "source": [
    "import bs4 as bs\n",
    "import sys\n",
    "import urllib.request\n",
    "from PyQt5.QtWebEngineWidgets import QWebEnginePage\n",
    "from PyQt5.QtWidgets import QApplication\n",
    "from PyQt5.QtCore import QUrl\n",
    "import pytube \n",
    " \n",
    " \n",
    "class Page(QWebEnginePage):\n",
    "    def __init__(self, url):\n",
    "        self.app = QApplication(sys.argv)\n",
    "        QWebEnginePage.__init__(self)\n",
    "        self.html = ''\n",
    "        self.loadFinished.connect(self._on_load_finished)\n",
    "        self.load(QUrl(url))\n",
    "        self.app.exec_()\n",
    " \n",
    "    def _on_load_finished(self):\n",
    "        self.html = self.toHtml(self.Callable)\n",
    "        print('Load finished')\n",
    " \n",
    "    def Callable(self, html_str):\n",
    "        self.html = html_str\n",
    "        self.app.quit()\n",
    " \n",
    " \n",
    "links = []\n",
    " \n",
    " \n",
    "def exact_link(link):\n",
    "    vid_id = link.split('=')\n",
    "    # print(vid_id)\n",
    "    str = \"\"\n",
    "    for i in vid_id[0:2]:\n",
    "        str += i + \"=\"\n",
    " \n",
    "    str_new = str[0:len(str) - 1]\n",
    "    index = str_new.find(\"&\")\n",
    " \n",
    "    new_link = \"https://www.youtube.com\" + str_new[0:index]\n",
    "    return new_link\n",
    " \n",
    " \n",
    "url = \" https://www.youtube.com/playlist?list=PLxxA5z-8B2xk4szCgFmgonNcCboyNneMD\"\n",
    "page = Page(url)\n",
    "count = 0\n",
    " \n",
    "soup = bs.BeautifulSoup(page.html, 'html.parser')\n",
    "for link in soup.find_all('a', id='thumbnail'):\n",
    "    if count == 0:\n",
    "        count += 1\n",
    "        continue\n",
    "    else:\n",
    "        try:\n",
    "            vid_src = link['href']\n",
    "            links.append(new_link)\n",
    "        except Exception as exp:\n",
    "            pass \n",
    " \n",
    "for link in links:\n",
    "    yt = pytube.YouTube(link)\n",
    "    stream = yt.streams.filter(progressive=True,\n",
    "                               file_extension='mp4').order_by(\n",
    "        'resolution').desc().first()\n",
    "    try:\n",
    "        stream.download()\n",
    "        print(\"Downloaded: \", link)\n",
    "    except:\n",
    "        print('Some error in downloading: ', link)\n"
   ]
  },
  {
   "cell_type": "markdown",
   "id": "8e23c84b",
   "metadata": {},
   "source": [
    "3. Create a CSV file with name and hyperlink after fetching it from the web page\n",
    "http://bioguide.congress.gov/biosearch/biosearch1.asp\n",
    "Download the page source and save it in an html file before Scrapping is performed."
   ]
  },
  {
   "cell_type": "code",
   "execution_count": 16,
   "id": "14f4dfde",
   "metadata": {},
   "outputs": [
    {
     "data": {
      "text/plain": [
       "75"
      ]
     },
     "execution_count": 16,
     "metadata": {},
     "output_type": "execute_result"
    }
   ],
   "source": [
    "import requests\n",
    "import csv\n",
    "from bs4 import BeautifulSoup as bs\n",
    "\n",
    "url = requests.get(\"http://bioguide.congress.gov/biosearch/biosearch1.asp\")\n",
    "soup = bs(url.content, 'html.parser')\n",
    "filename = \"test.html\"\n",
    "with open(filename, \"w\") as f:\n",
    "    f.write(str(soup.prettify()))\n",
    "dt=soup.find_all(\"a\")\n",
    "filename = \"hyperlink.csv\"\n",
    "csv_writer = csv.writer(open(filename, 'w'))\n",
    "csv_writer.writerow(dt)"
   ]
  },
  {
   "cell_type": "markdown",
   "id": "7557cb35",
   "metadata": {},
   "source": [
    "4. From the above stated question, fetch only the hyperlinks."
   ]
  },
  {
   "cell_type": "code",
   "execution_count": null,
   "id": "fc19d794",
   "metadata": {},
   "outputs": [],
   "source": []
  },
  {
   "cell_type": "markdown",
   "id": "f4ecb2f9",
   "metadata": {},
   "source": [
    "5. From the above stated question, fetch - names, years, positions, parties, states,congress, and full link.\n"
   ]
  },
  {
   "cell_type": "code",
   "execution_count": null,
   "id": "de7f953b",
   "metadata": {},
   "outputs": [],
   "source": []
  },
  {
   "cell_type": "markdown",
   "id": "a22d670f",
   "metadata": {},
   "source": [
    "6. Perform Web Scrapping on the following page:\n",
    "\n",
    "\"\"\"<html>\n",
    "    \n",
    "<head>\n",
    "    \n",
    " <title>\n",
    "     \n",
    " Page title\n",
    "     \n",
    " </title>\n",
    "    \n",
    "</head>\n",
    "    \n",
    "<body>\n",
    "    \n",
    " <p id=\"firstpara\" align=\"center\">\n",
    "     \n",
    " This is paragraph\n",
    "     \n",
    " <b>\n",
    "     \n",
    " one\n",
    "     \n",
    " </b>\n",
    "     \n",
    " </p>\n",
    "    \n",
    " <p id=\"secondpara\" align=\"blah\">\n",
    "     \n",
    " This is paragraph\n",
    "     \n",
    " <b>\n",
    "     \n",
    " two\n",
    "     \n",
    " </b>\n",
    "     \n",
    " </p>\n",
    "    \n",
    "</body>\n",
    "    \n",
    "</html>\"\"\"\n",
    "\n",
    "i) Read the page using Beautiful Soup and show it in a well-formatted, indented manner\n",
    "\n",
    "ii) Print the b tag from the page\n",
    "\n",
    "iii) Print all the tags that start from b\n",
    "\n",
    "iv) Print text from the tags having title and p by using lists\n",
    "\n",
    "v) Print text from the tags having title and p by using dictionaries\n",
    "\n",
    "vi) Print all the tag names present in the page\n",
    "\n",
    "vii) Print the complete tag that has two, and only two, attributes\n",
    "\n",
    "viii) Print the tags that have one-character names and no attributes\n",
    "\n",
    "ix) Print all the tags which have a value of center for align attribute\n",
    "\n",
    "x) From the XML content\n",
    "\n",
    "\"\"\"<person name=\"Bob\"><parent rel=\"mother\" name=\"Alice\">\"\"\"\n",
    "    \n",
    "print the attributes having name as Alice"
   ]
  },
  {
   "cell_type": "code",
   "execution_count": null,
   "id": "d626f1bb",
   "metadata": {},
   "outputs": [],
   "source": []
  },
  {
   "cell_type": "code",
   "execution_count": null,
   "id": "102b9a7d",
   "metadata": {},
   "outputs": [],
   "source": []
  }
 ],
 "metadata": {
  "kernelspec": {
   "display_name": "Python 3 (ipykernel)",
   "language": "python",
   "name": "python3"
  },
  "language_info": {
   "codemirror_mode": {
    "name": "ipython",
    "version": 3
   },
   "file_extension": ".py",
   "mimetype": "text/x-python",
   "name": "python",
   "nbconvert_exporter": "python",
   "pygments_lexer": "ipython3",
   "version": "3.9.7"
  }
 },
 "nbformat": 4,
 "nbformat_minor": 5
}
