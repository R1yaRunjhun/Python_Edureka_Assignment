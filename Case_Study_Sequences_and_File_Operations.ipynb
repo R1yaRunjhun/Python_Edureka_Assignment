{
 "cells": [
  {
   "cell_type": "markdown",
   "id": "91f9d257",
   "metadata": {},
   "source": [
    "Case Study I\n",
    "\n",
    "Domain –Banking\n",
    "\n",
    "Focus – Optimization\n",
    "\n",
    "Business challenge/requirement\n",
    "\n",
    "FinBank is the latest entrant in the banking market of Thailand. The verification process for\n",
    "opening a bank account is done manually by reviewing the photocopy of the approved ID\n",
    "card. However, they have recently introduced a system where the customers’ fingerprint\n",
    "will be mapped with the newly introduced Unique ID for citizens of Thailand by the\n",
    "government. FinBank should implement a system that verifies customers against the\n",
    "fingerprint and Unique Id.\n",
    "\n",
    "Key issues\n",
    "\n",
    "Build a system where when a user enters Unique ID it gets encrypted so that hackers cannot\n",
    "view the mapping of Unique ID and fingerprint\n",
    "\n",
    "Considerations\n",
    "\n",
    "System should be secure\n",
    "\n",
    "Data volume\n",
    "- NA\n",
    "\n",
    "Additional information\n",
    "- NA\n",
    "\n",
    "Business benefits\n",
    "\n",
    "The bank will be able to verify customers’ data quickly, and expected gain in volume is\n",
    "approximately ten timesas the manual process of verification is replaced with the secure\n",
    "automated system\n",
    "\n",
    "Approach to Solve\n",
    "\n",
    "1. Read the input from command line – Unique ID\n",
    "\n",
    "2. Check for validity of Unique ID – it should be 10 digits and must contain only numbers\n",
    "\n",
    "3. Encrypt the Unique ID and print it \n",
    "\n",
    "Enhancements for code\n",
    "\n",
    "You can try these enhancements in code\n",
    "\n",
    "1. Allow alphabets and some special characters in Unique ID\n",
    "\n",
    "2. Provide the option for decryption to user"
   ]
  },
  {
   "cell_type": "code",
   "execution_count": 3,
   "id": "c7e1439d",
   "metadata": {},
   "outputs": [
    {
     "name": "stdout",
     "output_type": "stream",
     "text": [
      "Requirement already satisfied: rsa in c:\\users\\riya\\anaconda3\\lib\\site-packages (4.8)\n",
      "Requirement already satisfied: pyasn1>=0.1.3 in c:\\users\\riya\\anaconda3\\lib\\site-packages (from rsa) (0.4.8)\n"
     ]
    }
   ],
   "source": [
    "!pip install rsa"
   ]
  },
  {
   "cell_type": "code",
   "execution_count": 12,
   "id": "c830d1fe",
   "metadata": {},
   "outputs": [
    {
     "name": "stdout",
     "output_type": "stream",
     "text": [
      "Enter 10 digit Unique ID: 8384598489\n",
      "8384598489\n",
      "b'*Wt\\'\\xae\\xe2\\x90]R\\xbcx\\xba_\\x88\\xc9x\\xedH\\xea\\x80k9\\xb3F(~\\xb2-V\\xc5\\xe2{\\xfb\\x80\\xef\\x14-\\xb0<\\x97I\"i\\x05(L\\x07]\\x90\\x1d\\xed\\xf9\\xbe\\x93\\xef\\xc5\\x10\\x9a{mW%\\xe2\\x1f'\n"
     ]
    }
   ],
   "source": [
    "import rsa\n",
    "publicKey, privateKey = rsa.newkeys(512)\n",
    "Unique_ID = input(\"Enter 10 digit Unique ID: \")\n",
    "if(Unique_ID.isdigit() and len(Unique_ID) ):\n",
    "    encUnique_ID = rsa.encrypt(Unique_ID.encode(),publicKey)\n",
    "    print(encUnique_ID)\n",
    "else:\n",
    "    print(\"Invalid Unique ID\")\n"
   ]
  },
  {
   "cell_type": "markdown",
   "id": "810049f5",
   "metadata": {},
   "source": [
    "Enhancements for code"
   ]
  },
  {
   "cell_type": "code",
   "execution_count": 11,
   "id": "2030a007",
   "metadata": {},
   "outputs": [
    {
     "name": "stdout",
     "output_type": "stream",
     "text": [
      "Enter Unique ID: riya@1234\n",
      "b'*A\\xee%\\xe1\\xa9\\xf5\\x0b\\x90\\xf34\\xc7\\x17X\\xb8\\xb5\\xe9\\x90y\\xd4_\\xfb\\xc39\\x7f6w[\\xa6\\xe0b\\xba]&c\\x03\\xb8O\\x85\\xa2y%\\xb9\\xf4\\xd5C\\xb4\\xffja;\\x08V\\xadW\\xee\\x04\\x8dN\\xaf\\x95m]\\xdd'\n",
      "Enter 1 to decrypt the cipher:1\n",
      "riya@1234\n"
     ]
    }
   ],
   "source": [
    "import rsa\n",
    "publicKey, privateKey = rsa.newkeys(512)\n",
    "allowed_chars = set((\"0123456789abcdefghijklmnopqrstuvwxyzABCDEFGHIJKLMNOPQRSTUVWXYZ_-&@$\"))\n",
    "Unique_ID = input(\"Enter Unique ID: \")\n",
    "Unique_ID_Set = set(Unique_ID)\n",
    "if(Unique_ID_Set.issubset(allowed_chars) and len(Unique_ID) ):\n",
    "    encUnique_ID = rsa.encrypt(Unique_ID.encode(),publicKey)\n",
    "    print(encUnique_ID)\n",
    "else:\n",
    "    print(\"Invalid Unique ID\")\n",
    "decrypt_flag =int(input(\"Enter 1 to decrypt the cipher:\"))\n",
    "if(decrypt_flag == 1 ):\n",
    "    decUnique_ID = rsa.decrypt(encUnique_ID, privateKey).decode()\n",
    "    print(decUnique_ID)"
   ]
  }
 ],
 "metadata": {
  "kernelspec": {
   "display_name": "Python 3 (ipykernel)",
   "language": "python",
   "name": "python3"
  },
  "language_info": {
   "codemirror_mode": {
    "name": "ipython",
    "version": 3
   },
   "file_extension": ".py",
   "mimetype": "text/x-python",
   "name": "python",
   "nbconvert_exporter": "python",
   "pygments_lexer": "ipython3",
   "version": "3.9.7"
  }
 },
 "nbformat": 4,
 "nbformat_minor": 5
}
